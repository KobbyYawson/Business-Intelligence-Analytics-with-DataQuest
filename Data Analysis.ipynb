{
 "cells": [
  {
   "cell_type": "code",
   "execution_count": null,
   "metadata": {},
   "outputs": [],
   "source": [
    "import pandas as pd\n",
    "import numpy as np"
   ]
  },
  {
   "cell_type": "code",
   "execution_count": null,
   "metadata": {},
   "outputs": [],
   "source": [
    "file_name = \"CRM Sales.xlsx\"\n",
    "\n",
    "# Single out the Accounts sheet\n",
    "df_accounts = pd.read_excel(file_name, sheet_name = \"accounts\")\n",
    "df_accounts.head(10)"
   ]
  },
  {
   "cell_type": "code",
   "execution_count": null,
   "metadata": {},
   "outputs": [],
   "source": [
    "df_accounts.shape"
   ]
  },
  {
   "cell_type": "code",
   "execution_count": null,
   "metadata": {},
   "outputs": [],
   "source": [
    "df_accounts.info()"
   ]
  },
  {
   "cell_type": "code",
   "execution_count": null,
   "metadata": {},
   "outputs": [],
   "source": [
    "# Change spelling from \"technolgy\" to \"technology\"\n",
    "df_accounts[\"sector\"] = df_accounts[\"sector\"].replace(\"technolgy\", \"technology\", regex = True)"
   ]
  },
  {
   "cell_type": "markdown",
   "metadata": {},
   "source": [
    "Analyze the Distribution of Accounts across Industries and Revenue Segments"
   ]
  },
  {
   "cell_type": "code",
   "execution_count": null,
   "metadata": {},
   "outputs": [],
   "source": [
    "# Industry distribution\n",
    "df_industry_dist = df_accounts[\"sector\"].value_counts()\n",
    "df_industry_dist"
   ]
  },
  {
   "cell_type": "code",
   "execution_count": null,
   "metadata": {},
   "outputs": [],
   "source": [
    "# Revenue Segmentation\n",
    "bins = [0, 10, 50, 100, 500, 1000, 5000, float(\"inf\")] # In millions USD\n",
    "labels = [\"<10M\", \"10M-50M\", \"50M-100M\", \"100M-500M\", \"500M-1B\", \"1B-5B\", \">5B\"]\n",
    "\n",
    "# Create new column \"revenue segmentation\"\n",
    "df_accounts['revenue_segmentation'] = pd.cut(df_accounts[\"revenue\"], bins=bins, labels=labels)\n",
    "revenue_dist = df_accounts[\"revenue_segmentation\"].value_counts()\n",
    "revenue_dist"
   ]
  },
  {
   "cell_type": "code",
   "execution_count": null,
   "metadata": {},
   "outputs": [],
   "source": [
    "# Print out Industry and Revenue distributions\n",
    "print(\"Industry Distribution:\\n\", df_industry_dist)\n",
    "print(\"\\nRevenue Distribution:\\n\", revenue_dist)"
   ]
  },
  {
   "cell_type": "code",
   "execution_count": null,
   "metadata": {},
   "outputs": [],
   "source": [
    "df_accounts.head()"
   ]
  },
  {
   "cell_type": "markdown",
   "metadata": {},
   "source": [
    "Identify Top-Performing Products Based on Close Rate"
   ]
  },
  {
   "cell_type": "code",
   "execution_count": null,
   "metadata": {},
   "outputs": [],
   "source": [
    "# Load products sheet\n",
    "df_products = pd.read_excel(file_name, sheet_name=\"products\")\n",
    "df_products"
   ]
  },
  {
   "cell_type": "code",
   "execution_count": null,
   "metadata": {},
   "outputs": [],
   "source": [
    "# Load Sales Pipeline sheet\n",
    "df_sales_pipeline = pd.read_excel(file_name, sheet_name=\"sales_pipeline\")\n",
    "df_sales_pipeline.head(10)"
   ]
  },
  {
   "cell_type": "code",
   "execution_count": null,
   "metadata": {},
   "outputs": [],
   "source": [
    "# Check details of sales pipeline\n",
    "df_sales_pipeline.info()"
   ]
  },
  {
   "cell_type": "code",
   "execution_count": null,
   "metadata": {},
   "outputs": [],
   "source": [
    "# Merge sales pipeline with Products on product name\n",
    "df_pipeline_products = df_sales_pipeline.merge(df_products, on=\"product\", how=\"left\")\n",
    "df_pipeline_products.head()"
   ]
  },
  {
   "cell_type": "code",
   "execution_count": null,
   "metadata": {},
   "outputs": [],
   "source": [
    "# Calculate close rate per product\n",
    "close_rate = df_pipeline_products.groupby(\"product\").apply(\n",
    "    lambda x: (x[\"deal_stage\"] == \"Won\").sum() / len(x)\n",
    ").reset_index(name=\"close_rate\")"
   ]
  },
  {
   "cell_type": "code",
   "execution_count": null,
   "metadata": {},
   "outputs": [],
   "source": [
    "# Sort products by close rate\n",
    "df_top_products = close_rate.sort_values(by=\"close_rate\", ascending=False)\n",
    "df_top_products"
   ]
  },
  {
   "cell_type": "markdown",
   "metadata": {},
   "source": [
    "Analyze Performance of Sales Teams, Agents, and Managers across Regions and Product Lines"
   ]
  },
  {
   "cell_type": "code",
   "execution_count": null,
   "metadata": {},
   "outputs": [],
   "source": [
    "# Load sales teams sheet\n",
    "df_sales_teams = pd.read_excel(file_name, sheet_name=\"sales_teams\")\n",
    "df_sales_teams.head(10)"
   ]
  },
  {
   "cell_type": "code",
   "execution_count": null,
   "metadata": {},
   "outputs": [],
   "source": [
    "# Check unique regional offices\n",
    "df_sales_teams[\"regional_office\"].unique()"
   ]
  },
  {
   "cell_type": "code",
   "execution_count": null,
   "metadata": {},
   "outputs": [],
   "source": [
    "# Merge Sales Teams with Sales Pipeline on sales_agent\n",
    "df_pipeline_teams = df_sales_pipeline.merge(df_sales_teams, on=\"sales_agent\", how=\"left\")\n",
    "df_pipeline_teams.head()"
   ]
  },
  {
   "cell_type": "code",
   "execution_count": null,
   "metadata": {},
   "outputs": [],
   "source": [
    "# Calculate performance by region, agent and manager\n",
    "df_team_performance = df_pipeline_teams.groupby([\"regional_office\", \"sales_agent\", \"manager\"]).agg(\n",
    "    total_deal_value=(\"close_value\", \"sum\"),\n",
    "    won_deals=(\"deal_stage\", lambda x: (x == \"Won\").sum()),\n",
    "    total_deals=(\"deal_stage\", \"count\")\n",
    ")\n",
    "df_team_performance.head(10)"
   ]
  },
  {
   "cell_type": "code",
   "execution_count": null,
   "metadata": {},
   "outputs": [],
   "source": [
    "# Calculate conversion rate\n",
    "df_team_performance['conversion_rate'] = df_team_performance[\"won_deals\"] / df_team_performance[\"total_deals\"]\n",
    "df_team_performance = df_team_performance.reset_index()\n",
    "df_team_performance.head()"
   ]
  },
  {
   "cell_type": "markdown",
   "metadata": {},
   "source": [
    "Identify Top-Performing Sales Teams and Individuals"
   ]
  },
  {
   "cell_type": "code",
   "execution_count": null,
   "metadata": {},
   "outputs": [],
   "source": [
    "# Sort by total_deal_value and conversion_rate to identify top performing teams\n",
    "df_top_teams_by_value = df_team_performance.sort_values(by=\"total_deal_value\", ascending=False)\n",
    "df_top_individuals_by_conversion = df_team_performance.sort_values(by=\"conversion_rate\", ascending=False)\n",
    "\n",
    "df_top_teams_by_value.head(10)"
   ]
  },
  {
   "cell_type": "code",
   "execution_count": null,
   "metadata": {},
   "outputs": [],
   "source": [
    "df_top_individuals_by_conversion.head(10)"
   ]
  },
  {
   "cell_type": "markdown",
   "metadata": {},
   "source": [
    "Identify Patterns or Trends in Deal Values, Close Dates, and Product Preferences across Industries or Account Segments"
   ]
  },
  {
   "cell_type": "code",
   "execution_count": null,
   "metadata": {},
   "outputs": [],
   "source": [
    "# Merging Sales_pipeline, Accounts and Products sheets on account \n",
    "df_pipeline_accounts_products = df_sales_pipeline.merge(df_accounts, on=\"account\", how=\"left\").merge(df_products, on=\"product\", how=\"left\")\n",
    "df_pipeline_accounts_products.head()"
   ]
  },
  {
   "cell_type": "code",
   "execution_count": null,
   "metadata": {},
   "outputs": [],
   "source": [
    "df_pipeline_accounts_products.info()"
   ]
  },
  {
   "cell_type": "code",
   "execution_count": null,
   "metadata": {},
   "outputs": [],
   "source": [
    "# Analysis on deal values over time\n",
    "df_deal_value_trend = df_pipeline_accounts_products.groupby(df_pipeline_accounts_products['close_date'].dt.to_period(\"M\")).agg(\n",
    "    total_deal_value=('close_value', 'sum')\n",
    ").reset_index()\n",
    "df_deal_value_trend.sort_values(by=\"total_deal_value\", ascending=False)"
   ]
  },
  {
   "cell_type": "code",
   "execution_count": null,
   "metadata": {},
   "outputs": [],
   "source": [
    "# Product preference by industry\n",
    "df_product_preference_by_sector = df_pipeline_accounts_products.groupby(['sector', 'product']).size().unstack().fillna(0)\n",
    "df_product_preference_by_sector.head(10)"
   ]
  },
  {
   "cell_type": "code",
   "execution_count": null,
   "metadata": {},
   "outputs": [],
   "source": [
    "# Create an Excel writer object\n",
    "file_path = 'Analysed CRM Sales.xlsx'\n",
    "with pd.ExcelWriter(file_path) as writer:\n",
    "    # Write each DataFrame to a different sheet\n",
    "    df_accounts.to_excel(writer, sheet_name='Accounts', index=False)\n",
    "    df_products.to_excel(writer, sheet_name='Products', index=False)\n",
    "    df_sales_pipeline.to_excel(writer, sheet_name='Sales_Pipeline', index=False)\n",
    "    df_pipeline_products.to_excel(writer, sheet_name='Sales_Pipeline & Products', index=False)\n",
    "    df_top_products.to_excel(writer, sheet_name='Top Products', index=False)\n",
    "    df_sales_teams.to_excel(writer, sheet_name='Sales Teams', index=False)\n",
    "    df_pipeline_teams.to_excel(writer, sheet_name='Sales Teams & Sales Pipeline', index=False)\n",
    "    df_team_performance.to_excel(writer, sheet_name='Team Performance', index=False)\n",
    "    df_top_teams_by_value.to_excel(writer, sheet_name='Top Teams by Value', index=False)\n",
    "    df_top_individuals_by_conversion.to_excel(writer, sheet_name='Top Individuals by Conversion', index=False)\n",
    "    df_pipeline_accounts_products.to_excel(writer, sheet_name='Sales Pipeline, Accounts & Products', index=False)\n",
    "    df_deal_value_trend.to_excel(writer, sheet_name='Deal Value Trend over Time', index=False)\n",
    "    df_product_preference_by_sector.to_excel(writer, sheet_name='Product Preference by Sector', index=False)"
   ]
  }
 ],
 "metadata": {
  "kernelspec": {
   "display_name": "base",
   "language": "python",
   "name": "python3"
  },
  "language_info": {
   "codemirror_mode": {
    "name": "ipython",
    "version": 3
   },
   "file_extension": ".py",
   "mimetype": "text/x-python",
   "name": "python",
   "nbconvert_exporter": "python",
   "pygments_lexer": "ipython3",
   "version": "3.11.5"
  }
 },
 "nbformat": 4,
 "nbformat_minor": 2
}
